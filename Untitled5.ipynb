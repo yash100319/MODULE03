{
  "nbformat": 4,
  "nbformat_minor": 0,
  "metadata": {
    "colab": {
      "provenance": [],
      "toc_visible": true
    },
    "kernelspec": {
      "name": "python3",
      "display_name": "Python 3"
    },
    "language_info": {
      "name": "python"
    }
  },
  "cells": [
    {
      "cell_type": "code",
      "execution_count": null,
      "metadata": {
        "id": "WgHa5X6m4xcT"
      },
      "outputs": [],
      "source": []
    },
    {
      "cell_type": "markdown",
      "source": [
        "#Data Types and Structures Questions\n",
        "1 What are data structures, and why are they important?\n",
        "-Data structures are specialized formats for organizing, storing, and managing data efficiently. They allow you to organize data in ways that make it easier to access and manipulate. The choice of data structure depends on the type of operations you need to perform on the data and how efficiently you need to do so.\n",
        "\n",
        "Different data structures allow you to store and manage data more efficiently, helping to optimize memory usage.\n",
        "Problem Solving:\n",
        "\n",
        "Certain problems can only be solved efficiently with the right data structure. For example, graphs are essential in problems involving networks, such as finding the shortest path in a map.\n",
        "Foundation for Algorithms:\n",
        "\n",
        "Many algorithms, from sorting to searching, rely on specific data structures. Without understanding these structures, it’s hard to design efficient algorithms.\n",
        "2 Explain the difference between mutable and immutable data types with examples?\n",
        "_Mutable and immutable data types refer to how objects in a programming language can be modified after they are created. Here’s the difference:\n",
        "\n",
        "Mutable Data Types\n",
        "Definition: Mutable objects are those whose values or content can be changed after they are created.\n",
        "Key Feature: The object itself can be modified without creating a new object in memory.\n",
        "Examples:\n",
        "Lists (in Python): You can change the elements inside a list.\n",
        "Dictionaries (in Python): You can add, remove, or change key-value pairs.\n",
        "Sets (in Python): You can add or remove elements.\n",
        "Immutable Data Types\n",
        "Definition: Immutable objects are those whose values cannot be changed after they are created.\n",
        "\n",
        "Key Feature: Once an object is created, it cannot be altered, and any change would result in the creation of a new object.\n",
        "\n",
        "Examples:\n",
        "\n",
        "Tuples (in Python): Cannot modify the elements inside a tuple.\n",
        "Strings (in Python): Cannot modify the characters of a string.\n",
        "Integers (in Python): Values cannot be changed in-place.\n",
        "3  What are the main differences between lists and tuples in Python?\n",
        "_List: Lists are mutable, meaning you can change their elements after creation. You can add, remove, or modify elements.\n",
        "Tuple: Tuples are immutable, meaning once created, their elements cannot be changed, added, or removed.\n",
        "Methods:\n",
        "List: Lists have several methods available, like .append(), .remove(), .extend(), .insert(), etc., since they are mutable.\n",
        "Tuple: Tuples have fewer built-in methods, such as .count() and .index(), as they cannot be modified.\n",
        "4  Describe how dictionaries store data?\n",
        "_Dictionaries in programming are a type of data structure that store data in key-value pairs. In this structure:\n",
        "\n",
        "Keys are unique identifiers used to access values.\n",
        "Values are the data or information associated with each key.\n",
        "Hashing: When a key-value pair is added to a dictionary, the key is processed through a hash function. The hash function converts the key into a unique hash value, which is then used to determine where the corresponding value will be stored in memory. This ensures that dictionary lookups are very fast.\n",
        "\n",
        "Buckets: The hash value points to a specific \"bucket\" (or location) in memory where the value is stored. If two keys have the same hash value (a hash collision), the dictionary resolves this by storing multiple key-value pairs in the same bucket using various methods (like linked lists or other data structures).\n",
        "\n",
        "Efficient Lookup: Because of the hashing mechanism, dictionaries are optimized for quick lookups. When you try to access a value by its key, the dictionary uses the hash value to find the right bucket and then retrieves the value.\n",
        "5 Why might you use a set instead of a list in Python ?\n",
        "_ .Uniqueness: A set automatically ensures that all its elements are unique. If you try to add duplicate elements to a set, they are ignored. This is useful when you want to maintain a collection of distinct items.\n",
        ".Efficiency in Membership Testing: Sets have average O(1) time complexity for checking if an element exists, whereas lists have O(n) time complexity. If you need to frequently check whether an item is present in a collection, sets are much faster.\n",
        ".Faster Operations for Set Theory: Sets provide built-in methods for mathematical operations like union, intersection, difference, and symmetric difference. These operations are typically faster with sets compared to lists.\n",
        "6 What is a string in Python, and how is it different from a list ?\n",
        "_ A list, on the other hand, is a collection of ordered items, which can be of different data types. Lists are defined using square brackets ([]), and the items inside the list are separated by commas.\n",
        "Key properties of lists:\n",
        "Mutable: Lists can be changed after creation. You can add, remove, or modify elements in a list.\n",
        "Indexed: Like strings, lists also have indexed elements starting from 0.\n",
        "Key Differences:\n",
        "Mutability:\n",
        "\n",
        "String: Immutable (can't change an individual character).\n",
        "List: Mutable (you can modify elements or add/remove items).\n",
        "Data types:\n",
        "\n",
        "String: Can only hold characters (text).\n",
        "List: Can hold multiple types of elements, including numbers, strings, other lists, etc.\n",
        "7 How do tuples ensure data integrity in Python ?\n",
        "_ 1. No Modifications After Creation:\n",
        "Once a tuple is created, it cannot be altered. This means that you cannot add, remove, or change elements in a tuple. This guarantees that the data contained within the tuple will remain unchanged throughout the program, preserving its integrity.\n",
        "2. Preventing Unintended Changes:\n",
        "Because tuples are immutable, they prevent accidental modifications that could otherwise lead to bugs or unintended changes in data. This is especially important in scenarios where data integrity is crucial, such as in databases or financial applications.\n",
        "8 What is a hash table, and how does it relate to dictionaries in Python ?\n",
        "_A hash table is a data structure that stores key-value pairs and provides efficient retrieval, insertion, and deletion of values based on a key. The way it works is by using a hash function to convert the key into an index in an array, where the corresponding value is stored.\n",
        "\n",
        "How It Works:\n",
        "Hashing: The hash function takes the key and computes a hash code, which is then used as an index to place the value in an array or a list.\n",
        "Collisions: Sometimes, two different keys may generate the same index. This is called a collision, and various techniques (like chaining or open addressing) are used to resolve collisions.\n",
        "Efficiency: Hash tables offer constant time complexity (O(1)) for most operations like insertion, deletion, and lookup, assuming that the hash function distributes keys uniformly across the table and collisions are minimal.\n",
        "9 P Can lists contain different data types in Python ?\n",
        "_ Yes, lists in Python can contain elements of different data types. A single list can hold integers, strings, floats, booleans, or even other lists, making Python lists very flexible.\n",
        "In this list, you have:\n",
        "\n",
        "An integer (42)\n",
        "A string (\"Hello\")\n",
        "A float (3.14)\n",
        "A boolean (True)\n",
        "A nested list ([1, 2, 3])\n",
        "10  Explain why strings are immutable in Python?\n",
        "_n Python, strings are immutable, meaning that once a string is created, its contents cannot be changed. There are a few key reasons for this design choice:\n",
        "\n",
        "1. Performance Optimization\n",
        "Memory Efficiency: Because strings are immutable, Python can optimize memory usage. It can reuse string objects when they have the same value. For example, if you create two strings with the same content, Python may point both variables to the same memory location, instead of duplicating the data. This reduces memory consumption and speeds up operations.\n",
        "\n",
        "Hashing: Strings in Python are often used as keys in dictionaries or elements in sets. Since their contents cannot change, strings can have a fixed hash value. This guarantees that the hash value will not change during the lifetime of the string, which is crucial for efficient lookups in hash-based data structures like dictionaries.\n",
        "\n",
        "2. Thread Safety\n",
        "Immutability makes strings safer in concurrent programming environments. If multiple threads are accessing and using the same string, no thread can alter its content, avoiding potential conflicts and bugs that might arise from one thread changing the string while another is using it.\n",
        "3. Simpler Design\n",
        "Immutability simplifies the design of Python's data model. When an object is immutable, you don't need to worry about side effects or how changes to the object might affect other parts of your program. It also simplifies debugging because you can be sure that a string won’t unexpectedly change throughout your code.\n",
        "11 What advantages do dictionaries offer over lists for certain tasks ?\n",
        "_ Dictionaries offer several advantages over lists for specific tasks, primarily due to their key-value structure, which makes them more efficient and versatile for certain types of operations. Here are the key advantages:\n",
        "\n",
        "Faster Lookups by Key:\n",
        "\n",
        "Dictionaries allow O(1) average time complexity for lookups by key. This means that if you need to retrieve a value based on a unique identifier (key), it can be done quickly, regardless of the size of the dictionary.\n",
        "Lists, on the other hand, require O(n) time complexity to search for an item by value (if you're not using an index). This makes dictionaries much more efficient when you're dealing with large datasets where you need to access elements by a unique identifier.\n",
        "Mapping Data to Unique Keys:\n",
        "\n",
        "Dictionaries are ideal for associating values with unique identifiers (keys). For example, if you need to store a user's information (like their name, age, and email) and retrieve it quickly using the user's ID, a dictionary is perfect for this use case.\n",
        "Lists don't have a concept of unique keys for elements, and you would need to use an index or value search, which is inefficient for mapping or retrieving data by a specific identifier.\n",
        "No Duplicates:\n",
        "\n",
        "Dictionaries do not allow duplicate keys. If you try to insert a value with an already existing key, the new value will overwrite the old one. This ensures that your data is always uniquely associated with a key.\n",
        "12 Describe a scenario where using a tuple would be preferable over a list ?\n",
        "_ A tuple would be preferable over a list when you want to store a collection of items that should not be changed after creation. Tuples are immutable, meaning their contents cannot be altered, which makes them a better choice for data that should remain constant throughout the program. This can enhance performance, as immutable objects are more memory-efficient and faster to work with.\n",
        "\n",
        "Scenario:\n",
        "Imagine you’re developing a program to track geographical coordinates (latitude and longitude) of a location on a map. These coordinates are not supposed to change, so using a tuple would be ideal because:\n",
        "\n",
        "Immutability: The coordinates should remain constant once defined (they shouldn't be altered). Using a tuple ensures the data remains unchanged and prevents accidental modifications.\n",
        "\n",
        "Performance: Since tuples are more lightweight than lists and require less memory, they will perform faster when repeatedly accessed or used in a large dataset.\n",
        "\n",
        "Semantic meaning: Using a tuple signifies that the data represents a fixed collection of items, which provides clarity in the code that this collection shouldn’t be modified.\n",
        "13  How do sets handle duplicate values in Python ?\n",
        "_ In Python, sets automatically remove duplicate values. This means that if you try to add the same element more than once to a set, only one instance of that element will be stored.\n",
        "14  How does the “in” keyword work differently for lists and dictionaries?\n",
        "_For lists:\n",
        "The in keyword checks if a value is an element in the list.\n",
        "It checks whether the value you're searching for is present as an item within the list.\n",
        "For dictionaries:\n",
        "The in keyword checks if a key exists in the dictionary, not the value.\n",
        "When you use in with a dictionary, you're checking if the key is present in the dictionary's keys\n",
        "15  Can you modify the elements of a tuple? Explain why or why not?\n",
        "_ No, you cannot modify the elements of a tuple because tuples are immutable in Python. Once a tuple is created, its values cannot be changed, added, or removed. This immutability is one of the key differences between tuples and lists.\n",
        "\n",
        "Here’s why:\n",
        "\n",
        "Immutability: The immutability of tuples means that their contents are fixed at the time of creation. You can access elements, but you cannot modify them after the tuple has been defined.\n",
        "\n",
        "Memory Efficiency: Because tuples are immutable, they are generally more memory efficient than lists. This is because Python can optimize their storage and access since it knows their contents won’t change.\n",
        "16  What is a nested dictionary, and give an example of its use case?\n",
        "_A nested dictionary is a dictionary in Python where the values of some keys are themselves dictionaries. Essentially, it’s a dictionary inside another dictionary, allowing you to organize data in a hierarchical or multi-level structure. This allows you to represent more complex data relationships.\n",
        "\n",
        "Use case example:\n",
        "Imagine you are managing a system for a school where each student has personal information, and you want to track their courses and grades. You can use a nested dictionary to store this information:\n",
        "17  Describe the time complexity of accessing elements in a dictionary?\n",
        "_Accessing elements in a dictionary in Python is generally an O(1) operation, meaning that the time it takes to retrieve an item from the dictionary is constant, regardless of the size of the dictionary.\n",
        "\n",
        "This constant-time access is achieved through hashing. When you use a key to look up a value in a dictionary, Python computes the hash of the key and uses that hash to quickly locate the corresponding value in the underlying data structure, typically a hash table.\n",
        "\n",
        "However, there are a few important caveats:\n",
        "\n",
        "Average-case time complexity: For most cases, accessing an element is O(1). This assumes that the hash function distributes the keys uniformly across the hash table, and there are no hash collisions.\n",
        "\n",
        "Worst-case time complexity: In the rare case of many hash collisions (where multiple keys end up with the same hash value), the dictionary may degenerate into a linked list, leading to O(n) time complexity for lookups, where n is the number of elements in the dictionary. However, this is uncommon in practice due to Python's effective handling of hash collisions.\n",
        "18 In what situations are lists preferred over dictionaries ?\n",
        "_ 1. Ordered Data\n",
        "2. Index-Based Access:\n",
        "3. Homogeneous Data:\n",
        "4. Iteration Over a Sequence:\n",
        "19 Why are dictionaries considered unordered, and how does that affect data retrieval ?\n",
        "_Dictionaries in Python are considered unordered because, historically, the internal implementation of dictionaries did not guarantee any specific order for the keys. However, starting from Python 3.7, the language specification guarantees that the order of items in a dictionary will be preserved (insertion order), but this doesn't mean they are ordered in the same way that, for example, a list or tuple is.\n",
        "\n",
        "Here’s why dictionaries were traditionally unordered:\n",
        "\n",
        "Internal Structure: Internally, dictionaries use a hash table for efficient lookups. A hash table is a data structure where keys are hashed, and the resulting hash determines where the associated value is stored. Since the hashing process doesn't depend on the order of insertion, earlier versions of Python didn't guarantee that the dictionary would maintain the insertion order.\n",
        "\n",
        "Efficiency: The primary design goal for dictionaries is efficient lookup and insertions, not ordering. The hash-based design allows for average time complexity of O(1) for lookups, meaning it can retrieve values very quickly, regardless of the order in which keys are inserted.\n",
        "\n",
        "20 Explain the difference between a list and a dictionary in terms of data retrieval ?\n",
        "_differently:\n",
        "\n",
        "List:\n",
        "\n",
        "A list is an ordered collection of items.\n",
        "Items in a list are indexed by their position (or index) in the list. The index starts from 0.\n",
        "To retrieve data from a list, you use the index. For example, my_list[2] will retrieve the third element in the list (since indexing starts at 0).\n",
        "Lists maintain the order of elements, meaning the order in which the elements are added to the list is preserved.\n",
        "             #Practical Questions\n"
      ],
      "metadata": {
        "id": "bR1p6aGM5K1j"
      }
    },
    {
      "cell_type": "code",
      "source": [],
      "metadata": {
        "id": "DHBT1xp-Dgxj"
      },
      "execution_count": null,
      "outputs": []
    },
    {
      "cell_type": "markdown",
      "source": [
        "1 Write a code to create a string with your name and print it?\n",
        "_"
      ],
      "metadata": {
        "id": "fNcvRc6dDihh"
      }
    },
    {
      "cell_type": "code",
      "source": [
        "# Create a string with my name\n",
        "my_name = \"ChatGPT\"\n",
        "\n",
        "# Print the string\n",
        "print(my_name)\n"
      ],
      "metadata": {
        "colab": {
          "base_uri": "https://localhost:8080/"
        },
        "id": "MMHEzFTCDyXr",
        "outputId": "43d65110-3124-48c2-c833-cb97f279eebe"
      },
      "execution_count": 1,
      "outputs": [
        {
          "output_type": "stream",
          "name": "stdout",
          "text": [
            "ChatGPT\n"
          ]
        }
      ]
    },
    {
      "cell_type": "code",
      "source": [],
      "metadata": {
        "id": "yN8Co5UVD6_e"
      },
      "execution_count": null,
      "outputs": []
    },
    {
      "cell_type": "markdown",
      "source": [
        "2 Write a code to find the length of the string \"Hello World ?\n"
      ],
      "metadata": {
        "id": "Btfh0HSWD7sl"
      }
    },
    {
      "cell_type": "code",
      "source": [
        "# Define the string\n",
        "text = \"Hello World\"\n",
        "\n",
        "# Find the length of the string\n",
        "length = len(text)\n",
        "\n",
        "# Print the length\n",
        "print(\"The length of the string is:\", length)\n"
      ],
      "metadata": {
        "id": "JaYDq6Y7EHy0"
      },
      "execution_count": null,
      "outputs": []
    },
    {
      "cell_type": "markdown",
      "source": [
        "3 Write a code to slice the first 3 characters from the string \"Python Programming ?"
      ],
      "metadata": {
        "id": "_bKGBlJPEK9F"
      }
    },
    {
      "cell_type": "code",
      "source": [
        "text = \"Python Programming\"\n",
        "sliced_text = text[:3]\n",
        "print(sliced_text)\n"
      ],
      "metadata": {
        "colab": {
          "base_uri": "https://localhost:8080/"
        },
        "id": "qTABSILpEWhJ",
        "outputId": "b39226db-107b-4e65-fe92-ad858fa36c20"
      },
      "execution_count": 2,
      "outputs": [
        {
          "output_type": "stream",
          "name": "stdout",
          "text": [
            "Pyt\n"
          ]
        }
      ]
    },
    {
      "cell_type": "markdown",
      "source": [
        "4  Write a code to convert the string \"hello\" to uppercase?\n"
      ],
      "metadata": {
        "id": "BNdbmiuYEk4k"
      }
    },
    {
      "cell_type": "code",
      "source": [
        "# Define the string\n",
        "text = \"hello\"\n",
        "\n",
        "# Convert the string to uppercase\n",
        "uppercase_text = text.upper()\n",
        "\n",
        "# Print the result\n",
        "print(uppercase_text)\n"
      ],
      "metadata": {
        "id": "UmfX8HmIE_Tj"
      },
      "execution_count": null,
      "outputs": []
    },
    {
      "cell_type": "markdown",
      "source": [
        "5 Write a code to replace the word \"apple\" with \"orange\" in the string \"I like apple ?"
      ],
      "metadata": {
        "id": "4TyPq_CzFJ_A"
      }
    },
    {
      "cell_type": "code",
      "source": [
        "# Given string\n",
        "sentence = \"I like apple\"\n",
        "\n",
        "# Replace 'apple' with 'orange'\n",
        "updated_sentence = sentence.replace(\"apple\", \"orange\")\n",
        "\n",
        "# Print the updated sentence\n",
        "print(updated_sentence)\n"
      ],
      "metadata": {
        "id": "BAGUQf21FQ2o"
      },
      "execution_count": null,
      "outputs": []
    },
    {
      "cell_type": "code",
      "source": [],
      "metadata": {
        "id": "fRO71G40FWBn"
      },
      "execution_count": null,
      "outputs": []
    },
    {
      "cell_type": "code",
      "source": [],
      "metadata": {
        "id": "l_KBC8qpFoaV"
      },
      "execution_count": null,
      "outputs": []
    },
    {
      "cell_type": "markdown",
      "source": [
        "6 Write a code to create a list with numbers 1 to 5 and print it ?"
      ],
      "metadata": {
        "id": "HXBTg8-pFWtA"
      }
    },
    {
      "cell_type": "code",
      "source": [
        "# Create a list with numbers 1 to 5\n",
        "numbers = [1, 2, 3, 4, 5]\n",
        "\n",
        "# Print the list\n",
        "print(numbers)\n"
      ],
      "metadata": {
        "colab": {
          "base_uri": "https://localhost:8080/"
        },
        "id": "CuyLKGhDFg0N",
        "outputId": "98d1ab5a-817d-4a2b-a3c2-74e03d0a93ac"
      },
      "execution_count": 3,
      "outputs": [
        {
          "output_type": "stream",
          "name": "stdout",
          "text": [
            "[1, 2, 3, 4, 5]\n"
          ]
        }
      ]
    },
    {
      "cell_type": "markdown",
      "source": [
        "7  Write a code to append the number 10 to the list [1, 2, 3, 4]?"
      ],
      "metadata": {
        "id": "1UZXzoTvFtQa"
      }
    },
    {
      "cell_type": "code",
      "source": [
        "# Original list\n",
        "my_list = [1, 2, 3, 4]\n",
        "\n",
        "# Append the number 10 to the list\n",
        "my_list.append(10)\n",
        "\n",
        "# Print the updated list\n",
        "print(my_list)\n"
      ],
      "metadata": {
        "colab": {
          "base_uri": "https://localhost:8080/"
        },
        "id": "k8dURer0F0Ct",
        "outputId": "1aa85c52-e24a-4a60-de2c-c46b13de258a"
      },
      "execution_count": 4,
      "outputs": [
        {
          "output_type": "stream",
          "name": "stdout",
          "text": [
            "[1, 2, 3, 4, 10]\n"
          ]
        }
      ]
    },
    {
      "cell_type": "markdown",
      "source": [
        "8 P Write a code to remove the number 3 from the list [1, 2, 3, 4, 5] ?"
      ],
      "metadata": {
        "id": "ij-GSr0CF7Ez"
      }
    },
    {
      "cell_type": "code",
      "source": [
        "my_list = [1, 2, 3, 4, 5]\n",
        "my_list.remove(3)\n",
        "print(my_list)\n"
      ],
      "metadata": {
        "colab": {
          "base_uri": "https://localhost:8080/"
        },
        "id": "lD7TI-TEGVFv",
        "outputId": "7c928cf7-9eb7-43b6-844c-72e4833f9e8a"
      },
      "execution_count": 5,
      "outputs": [
        {
          "output_type": "stream",
          "name": "stdout",
          "text": [
            "[1, 2, 4, 5]\n"
          ]
        }
      ]
    },
    {
      "cell_type": "markdown",
      "source": [
        "9 Write a code to access the second element in the list ['a', 'b', 'c', 'd'] ?"
      ],
      "metadata": {
        "id": "EPWIjx3ZGdJ3"
      }
    },
    {
      "cell_type": "code",
      "source": [],
      "metadata": {
        "id": "W9Ctnrl7GjUE"
      },
      "execution_count": null,
      "outputs": []
    },
    {
      "cell_type": "code",
      "source": [
        "my_list = ['a', 'b', 'c', 'd']\n",
        "second_element = my_list[1]\n",
        "print(second_element)\n"
      ],
      "metadata": {
        "colab": {
          "base_uri": "https://localhost:8080/"
        },
        "id": "xQv2jUn7GtCu",
        "outputId": "c213b1f0-8267-4dd2-ab3c-cf62e8b50b17"
      },
      "execution_count": 6,
      "outputs": [
        {
          "output_type": "stream",
          "name": "stdout",
          "text": [
            "b\n"
          ]
        }
      ]
    },
    {
      "cell_type": "markdown",
      "source": [
        "10 Write a code to reverse the list [10, 20, 30, 40, 50] ?\n"
      ],
      "metadata": {
        "id": "WwX9ulWbGvkz"
      }
    },
    {
      "cell_type": "code",
      "source": [
        "my_list = [10, 20, 30, 40, 50]\n",
        "reversed_list = my_list[::-1]\n",
        "print(reversed_list)\n"
      ],
      "metadata": {
        "colab": {
          "base_uri": "https://localhost:8080/"
        },
        "id": "ZbYZTWURG8Wx",
        "outputId": "8f15b634-7f84-4d6a-cf26-b5541db8683b"
      },
      "execution_count": 7,
      "outputs": [
        {
          "output_type": "stream",
          "name": "stdout",
          "text": [
            "[50, 40, 30, 20, 10]\n"
          ]
        }
      ]
    },
    {
      "cell_type": "markdown",
      "source": [
        "11 . Write a code to create a tuple with the elements 100, 200, 300 and print it. ?"
      ],
      "metadata": {
        "id": "V8F02DyvHC5M"
      }
    },
    {
      "cell_type": "code",
      "source": [
        "# Creating a tuple with the elements 100, 200, 300\n",
        "my_tuple = (100, 200, 300)\n",
        "\n",
        "# Printing the tuple\n",
        "print(my_tuple)\n"
      ],
      "metadata": {
        "colab": {
          "base_uri": "https://localhost:8080/"
        },
        "id": "UQ6U0gb3HLzL",
        "outputId": "aeabe4bd-fe3c-44ca-a3b7-bc78ab0669ca"
      },
      "execution_count": 8,
      "outputs": [
        {
          "output_type": "stream",
          "name": "stdout",
          "text": [
            "(100, 200, 300)\n"
          ]
        }
      ]
    },
    {
      "cell_type": "markdown",
      "source": [
        "12  Write a code to access the second-to-last element of the tuple ('red', 'green', 'blue', 'yellow') ?"
      ],
      "metadata": {
        "id": "erNT_zuxHTVx"
      }
    },
    {
      "cell_type": "code",
      "source": [
        "my_tuple = ('red', 'green', 'blue', 'yellow')\n",
        "second_to_last = my_tuple[-2]\n",
        "print(second_to_last)\n"
      ],
      "metadata": {
        "colab": {
          "base_uri": "https://localhost:8080/"
        },
        "id": "UNWYbWzaIAF-",
        "outputId": "661a7781-2ddd-4422-c90d-6c648a54895a"
      },
      "execution_count": 9,
      "outputs": [
        {
          "output_type": "stream",
          "name": "stdout",
          "text": [
            "blue\n"
          ]
        }
      ]
    },
    {
      "cell_type": "markdown",
      "source": [
        "13 Write a code to find the minimum number in the tuple (10, 20, 5, 15) ?"
      ],
      "metadata": {
        "id": "lW_oKl8vIl42"
      }
    },
    {
      "cell_type": "code",
      "source": [
        "# Tuple\n",
        "numbers = (10, 20, 5, 15)\n",
        "\n",
        "# Finding the minimum number\n",
        "min_number = min(numbers)\n",
        "\n",
        "# Printing the result\n",
        "print(\"The minimum number is:\", min_number)\n"
      ],
      "metadata": {
        "colab": {
          "base_uri": "https://localhost:8080/"
        },
        "id": "DOmW0jzmIsGQ",
        "outputId": "0d36d122-6bee-484d-db6b-aa1dccf65dae"
      },
      "execution_count": 10,
      "outputs": [
        {
          "output_type": "stream",
          "name": "stdout",
          "text": [
            "The minimum number is: 5\n"
          ]
        }
      ]
    },
    {
      "cell_type": "markdown",
      "source": [
        "14 . Write a code to find the index of the element \"cat\" in the tuple ('dog', 'cat', 'rabbit') ?"
      ],
      "metadata": {
        "id": "U0kkHhtkI7X7"
      }
    },
    {
      "cell_type": "code",
      "source": [
        "# Tuple\n",
        "animals = ('dog', 'cat', 'rabbit')\n",
        "\n",
        "# Find the index of 'cat'\n",
        "index_of_cat = animals.index('cat')\n",
        "\n",
        "# Print the result\n",
        "print(\"The index of 'cat' is:\", index_of_cat)\n"
      ],
      "metadata": {
        "colab": {
          "base_uri": "https://localhost:8080/"
        },
        "id": "YGqfiUaxJBzX",
        "outputId": "e6ae57a2-8e00-4c02-bcf9-193dec03c8f1"
      },
      "execution_count": 11,
      "outputs": [
        {
          "output_type": "stream",
          "name": "stdout",
          "text": [
            "The index of 'cat' is: 1\n"
          ]
        }
      ]
    },
    {
      "cell_type": "markdown",
      "source": [
        "15 Write a code to create a tuple containing three different fruits and check if \"kiwi\" is in it ?"
      ],
      "metadata": {
        "id": "pSq9cQ3EJJiI"
      }
    },
    {
      "cell_type": "markdown",
      "source": [],
      "metadata": {
        "id": "x5VVEggjJQTm"
      }
    },
    {
      "cell_type": "code",
      "source": [
        "# Create a tuple with three different fruits\n",
        "fruits = (\"apple\", \"banana\", \"orange\")\n",
        "\n",
        "# Check if \"kiwi\" is in the tuple\n",
        "if \"kiwi\" in fruits:\n",
        "    print(\"Kiwi is in the tuple!\")\n",
        "else:\n",
        "    print(\"Kiwi is not in the tuple.\")\n"
      ],
      "metadata": {
        "colab": {
          "base_uri": "https://localhost:8080/"
        },
        "id": "YY9xZZfAJRCy",
        "outputId": "4fd8163d-eb3b-441f-e9e9-e779da69d330"
      },
      "execution_count": 13,
      "outputs": [
        {
          "output_type": "stream",
          "name": "stdout",
          "text": [
            "Kiwi is not in the tuple.\n"
          ]
        }
      ]
    },
    {
      "cell_type": "markdown",
      "source": [
        "16 Write a code to create a set with the elements 'a', 'b', 'c' and print it ?"
      ],
      "metadata": {
        "id": "c1WK8aBFJYWf"
      }
    },
    {
      "cell_type": "code",
      "source": [
        "# Creating a set with the elements 'a', 'b', 'c'\n",
        "my_set = {'a', 'b', 'c'}\n",
        "\n",
        "# Printing the set\n",
        "print(my_set)\n"
      ],
      "metadata": {
        "colab": {
          "base_uri": "https://localhost:8080/"
        },
        "id": "dEz2CP63JhoK",
        "outputId": "884b755d-552c-4907-9405-907998ca6e00"
      },
      "execution_count": 15,
      "outputs": [
        {
          "output_type": "stream",
          "name": "stdout",
          "text": [
            "{'c', 'b', 'a'}\n"
          ]
        }
      ]
    },
    {
      "cell_type": "markdown",
      "source": [
        "17 Write a code to clear all elements from the set {1, 2, 3, 4, 5} ?"
      ],
      "metadata": {
        "id": "jhvAN8POJtho"
      }
    },
    {
      "cell_type": "code",
      "source": [
        "# Define the set\n",
        "my_set = {1, 2, 3, 4, 5}\n",
        "\n",
        "# Clear all elements from the set\n",
        "my_set.clear()\n",
        "\n",
        "# Print the set to confirm it's empty\n",
        "print(my_set)\n"
      ],
      "metadata": {
        "colab": {
          "base_uri": "https://localhost:8080/"
        },
        "id": "-qm98deXJ08q",
        "outputId": "b5f82d07-539d-4383-8ff0-487add251365"
      },
      "execution_count": 16,
      "outputs": [
        {
          "output_type": "stream",
          "name": "stdout",
          "text": [
            "set()\n"
          ]
        }
      ]
    },
    {
      "cell_type": "markdown",
      "source": [
        "18  Write a code to remove the element 4 from the set {1, 2, 3, 4} ?"
      ],
      "metadata": {
        "id": "JHW60wAdJ7y1"
      }
    },
    {
      "cell_type": "code",
      "source": [
        "# Initial set\n",
        "my_set = {1, 2, 3, 4}\n",
        "\n",
        "# Removing the element 4\n",
        "my_set.remove(4)\n",
        "\n",
        "# Print the updated set\n",
        "print(my_set)\n"
      ],
      "metadata": {
        "colab": {
          "base_uri": "https://localhost:8080/"
        },
        "id": "UmJdklSFKGmc",
        "outputId": "21d4d14c-c6c5-4055-e8b6-b13194a93d89"
      },
      "execution_count": 17,
      "outputs": [
        {
          "output_type": "stream",
          "name": "stdout",
          "text": [
            "{1, 2, 3}\n"
          ]
        }
      ]
    },
    {
      "cell_type": "markdown",
      "source": [
        "19 . Write a code to find the union of two sets {1, 2, 3} and {3, 4, 5}.?"
      ],
      "metadata": {
        "id": "SC7tconwKR7w"
      }
    },
    {
      "cell_type": "code",
      "source": [
        "# Define the sets\n",
        "set1 = {1, 2, 3}\n",
        "set2 = {3, 4, 5}\n",
        "\n",
        "# Find the union using the union() method\n",
        "union_set = set1.union(set2)\n",
        "\n",
        "# Alternatively, using the | operator\n",
        "# union_set = set1 | set2\n",
        "\n",
        "# Print the result\n",
        "print(\"Union of the sets:\", union_set)\n"
      ],
      "metadata": {
        "colab": {
          "base_uri": "https://localhost:8080/"
        },
        "id": "_7FISyAyKYw6",
        "outputId": "d11f7831-e951-4ea3-f2c7-0378112f051f"
      },
      "execution_count": 18,
      "outputs": [
        {
          "output_type": "stream",
          "name": "stdout",
          "text": [
            "Union of the sets: {1, 2, 3, 4, 5}\n"
          ]
        }
      ]
    },
    {
      "cell_type": "markdown",
      "source": [
        "20  Write a code to find the intersection of two sets {1, 2, 3} and {2, 3, 4 ?\n"
      ],
      "metadata": {
        "id": "oZWc4NTcKeD2"
      }
    },
    {
      "cell_type": "code",
      "source": [
        "# Define the two sets\n",
        "set1 = {1, 2, 3}\n",
        "set2 = {2, 3, 4}\n",
        "\n",
        "# Find the intersection using the intersection() method\n",
        "intersection = set1.intersection(set2)\n",
        "\n",
        "# Alternatively, you can use the & operator\n",
        "# intersection = set1 & set2\n",
        "\n",
        "# Print the result\n",
        "print(\"Intersection:\", intersection)\n"
      ],
      "metadata": {
        "colab": {
          "base_uri": "https://localhost:8080/"
        },
        "id": "4x_7zMFUKtLm",
        "outputId": "3cdacd95-5843-4a92-d017-0477da6f41ff"
      },
      "execution_count": 19,
      "outputs": [
        {
          "output_type": "stream",
          "name": "stdout",
          "text": [
            "Intersection: {2, 3}\n"
          ]
        }
      ]
    },
    {
      "cell_type": "markdown",
      "source": [
        "21  Write a code to create a dictionary with the keys \"name\", \"age\", and \"city\", and print it ?"
      ],
      "metadata": {
        "id": "BcH__LCKK0iL"
      }
    },
    {
      "cell_type": "code",
      "source": [
        "# Create the dictionary\n",
        "person = {\n",
        "    \"name\": \"John\",\n",
        "    \"age\": 30,\n",
        "    \"city\": \"New York\"\n",
        "}\n",
        "\n",
        "# Print the dictionary\n",
        "print(person)\n"
      ],
      "metadata": {
        "colab": {
          "base_uri": "https://localhost:8080/"
        },
        "id": "4hZwP56SK6_O",
        "outputId": "d5c979f2-20ef-4bb8-8352-822f14a3c8cd"
      },
      "execution_count": 20,
      "outputs": [
        {
          "output_type": "stream",
          "name": "stdout",
          "text": [
            "{'name': 'John', 'age': 30, 'city': 'New York'}\n"
          ]
        }
      ]
    },
    {
      "cell_type": "markdown",
      "source": [
        "22 Write a code to add a new key-value pair \"country\": \"USA\" to the dictionary {'name': 'John', 'age': 25} ?"
      ],
      "metadata": {
        "id": "3W0thybXLAkG"
      }
    },
    {
      "cell_type": "code",
      "source": [
        "# Given dictionary\n",
        "person = {'name': 'John', 'age': 25}\n",
        "\n",
        "# Adding the new key-value pair\n",
        "person['country'] = 'USA'\n",
        "\n",
        "# Printing the updated dictionary\n",
        "print(person)\n"
      ],
      "metadata": {
        "colab": {
          "base_uri": "https://localhost:8080/"
        },
        "id": "AVzdJb7aLGv8",
        "outputId": "aaa257dc-6bf5-4979-9b59-e43e92416a22"
      },
      "execution_count": 21,
      "outputs": [
        {
          "output_type": "stream",
          "name": "stdout",
          "text": [
            "{'name': 'John', 'age': 25, 'country': 'USA'}\n"
          ]
        }
      ]
    },
    {
      "cell_type": "markdown",
      "source": [
        "23 Write a code to access the value associated with the key \"name\" in the dictionary {'name': 'Alice', 'age': 30}.?"
      ],
      "metadata": {
        "id": "i6G3cbnGLMME"
      }
    },
    {
      "cell_type": "code",
      "source": [
        "my_dict = {'name': 'Alice', 'age': 30}\n",
        "name_value = my_dict['name']\n",
        "print(name_value)\n"
      ],
      "metadata": {
        "colab": {
          "base_uri": "https://localhost:8080/"
        },
        "id": "xqTEFi5OLTCb",
        "outputId": "0a6f1c19-164e-4e42-c34a-906a0dae38cc"
      },
      "execution_count": 22,
      "outputs": [
        {
          "output_type": "stream",
          "name": "stdout",
          "text": [
            "Alice\n"
          ]
        }
      ]
    },
    {
      "cell_type": "markdown",
      "source": [
        "24  Write a code to remove the key \"age\" from the dictionary {'name': 'Bob', 'age': 22, 'city': 'New York'}.?"
      ],
      "metadata": {
        "id": "as1KFj11LYbG"
      }
    },
    {
      "cell_type": "code",
      "source": [
        "# Original dictionary\n",
        "person = {'name': 'Bob', 'age': 22, 'city': 'New York'}\n",
        "\n",
        "# Remove the key 'age'\n",
        "del person['age']\n",
        "\n",
        "# Print the updated dictionary\n",
        "print(person)\n"
      ],
      "metadata": {
        "colab": {
          "base_uri": "https://localhost:8080/"
        },
        "id": "UpJAp7n5Leye",
        "outputId": "e0666402-5698-40b1-c0e8-6b580decff53"
      },
      "execution_count": 23,
      "outputs": [
        {
          "output_type": "stream",
          "name": "stdout",
          "text": [
            "{'name': 'Bob', 'city': 'New York'}\n"
          ]
        }
      ]
    },
    {
      "cell_type": "markdown",
      "source": [
        "25  Write a code to check if the key \"city\" exists in the dictionary {'name': 'Alice', 'city': 'Paris'} ?"
      ],
      "metadata": {
        "id": "_rsQckAcLkFE"
      }
    },
    {
      "cell_type": "code",
      "source": [
        "my_dict = {'name': 'Alice', 'city': 'Paris'}\n",
        "\n",
        "# Check if 'city' key exists in the dictionary\n",
        "if 'city' in my_dict:\n",
        "    print(\"The key 'city' exists in the dictionary.\")\n",
        "else:\n",
        "    print(\"The key 'city' does not exist in the dictionary.\")\n"
      ],
      "metadata": {
        "colab": {
          "base_uri": "https://localhost:8080/"
        },
        "id": "RIIHypvDLpYx",
        "outputId": "1c7d3607-1355-4819-bba6-667fc28ea764"
      },
      "execution_count": 24,
      "outputs": [
        {
          "output_type": "stream",
          "name": "stdout",
          "text": [
            "The key 'city' exists in the dictionary.\n"
          ]
        }
      ]
    },
    {
      "cell_type": "markdown",
      "source": [
        "26 . Write a code to create a list, a tuple, and a dictionary, and print them all ?"
      ],
      "metadata": {
        "id": "MFzAY9YrLuC6"
      }
    },
    {
      "cell_type": "code",
      "source": [
        "# Creating a list\n",
        "my_list = [1, 2, 3, 4, 5]\n",
        "\n",
        "# Creating a tuple\n",
        "my_tuple = (10, 20, 30, 40, 50)\n",
        "\n",
        "# Creating a dictionary\n",
        "my_dict = {\"name\": \"Alice\", \"age\": 30, \"city\": \"New York\"}\n",
        "\n",
        "# Printing all the data structures\n",
        "print(\"List:\", my_list)\n",
        "print(\"Tuple:\", my_tuple)\n",
        "print(\"Dictionary:\", my_dict)\n"
      ],
      "metadata": {
        "colab": {
          "base_uri": "https://localhost:8080/"
        },
        "id": "dhJbyJNML-Wc",
        "outputId": "2a142b2d-6ce9-4b7a-f33a-48ae9689cd20"
      },
      "execution_count": 25,
      "outputs": [
        {
          "output_type": "stream",
          "name": "stdout",
          "text": [
            "List: [1, 2, 3, 4, 5]\n",
            "Tuple: (10, 20, 30, 40, 50)\n",
            "Dictionary: {'name': 'Alice', 'age': 30, 'city': 'New York'}\n"
          ]
        }
      ]
    },
    {
      "cell_type": "markdown",
      "source": [
        "27 7. Write a code to create a list of 5 random numbers between 1 and 100, sort it in ascending order, and print the\n",
        "result.(replaced) ?"
      ],
      "metadata": {
        "id": "zUSgPGD5MBNS"
      }
    },
    {
      "cell_type": "markdown",
      "source": [],
      "metadata": {
        "id": "h3eoCROYMNq4"
      }
    },
    {
      "cell_type": "code",
      "source": [
        "import random\n",
        "\n",
        "# Generate a list of 5 random numbers between 1 and 100\n",
        "random_numbers = [random.randint(1, 100) for _ in range(5)]\n",
        "\n",
        "# Sort the list in ascending order\n",
        "random_numbers.sort()\n",
        "\n",
        "# Print the sorted list\n",
        "print(\"Sorted random numbers:\", random_numbers)\n",
        "\n"
      ],
      "metadata": {
        "colab": {
          "base_uri": "https://localhost:8080/"
        },
        "id": "XAfTm1hsMHux",
        "outputId": "f40613c5-9a8e-4f4e-c619-f40c1a27cb05"
      },
      "execution_count": 26,
      "outputs": [
        {
          "output_type": "stream",
          "name": "stdout",
          "text": [
            "Sorted random numbers: [25, 48, 53, 91, 98]\n"
          ]
        }
      ]
    },
    {
      "cell_type": "markdown",
      "source": [
        "28 Write a code to create a list with strings and print the element at the third index ?"
      ],
      "metadata": {
        "id": "16dwz98DMQnY"
      }
    },
    {
      "cell_type": "code",
      "source": [
        "# Create a list of strings\n",
        "my_list = [\"apple\", \"banana\", \"cherry\", \"date\", \"elderberry\"]\n",
        "\n",
        "# Print the element at the third index\n",
        "print(my_list[3])\n"
      ],
      "metadata": {
        "colab": {
          "base_uri": "https://localhost:8080/"
        },
        "id": "54gUyVdTMWA1",
        "outputId": "53282cbb-6256-42ff-879f-a6d9beb057d1"
      },
      "execution_count": 27,
      "outputs": [
        {
          "output_type": "stream",
          "name": "stdout",
          "text": [
            "date\n"
          ]
        }
      ]
    },
    {
      "cell_type": "markdown",
      "source": [
        "29 Write a code to combine two dictionaries into one and print the result ?"
      ],
      "metadata": {
        "id": "VACTDuhrMaBZ"
      }
    },
    {
      "cell_type": "code",
      "source": [
        "dict1 = {'a': 1, 'b': 2}\n",
        "dict2 = {'c': 3, 'd': 4}\n",
        "\n",
        "dict1.update(dict2)\n",
        "\n",
        "print(dict1)\n"
      ],
      "metadata": {
        "colab": {
          "base_uri": "https://localhost:8080/"
        },
        "id": "tvPmpIT5MhYy",
        "outputId": "eb8b5e3e-86dd-4372-bb01-2be90e1a7e67"
      },
      "execution_count": 28,
      "outputs": [
        {
          "output_type": "stream",
          "name": "stdout",
          "text": [
            "{'a': 1, 'b': 2, 'c': 3, 'd': 4}\n"
          ]
        }
      ]
    },
    {
      "cell_type": "markdown",
      "source": [
        "30 . Write a code to convert a list of strings into a set ?"
      ],
      "metadata": {
        "id": "1v3wfrBIMlh_"
      }
    },
    {
      "cell_type": "code",
      "source": [
        "# Example list of strings\n",
        "list_of_strings = [\"apple\", \"banana\", \"cherry\", \"apple\", \"banana\"]\n",
        "\n",
        "# Convert the list to a set\n",
        "set_of_strings = set(list_of_strings)\n",
        "\n",
        "# Output the set\n",
        "print(set_of_strings)\n"
      ],
      "metadata": {
        "colab": {
          "base_uri": "https://localhost:8080/"
        },
        "id": "Gv1WfGXlMrWd",
        "outputId": "eaa666b6-fa79-424f-8624-5d33c27a98f8"
      },
      "execution_count": 29,
      "outputs": [
        {
          "output_type": "stream",
          "name": "stdout",
          "text": [
            "{'banana', 'cherry', 'apple'}\n"
          ]
        }
      ]
    }
  ]
}